{
 "cells": [
  {
   "cell_type": "markdown",
   "metadata": {},
   "source": [
    "# Classifying Urban sounds using Deep Learning\n",
    "\n",
    "## 3 Model Training and Evaluation "
   ]
  },
  {
   "cell_type": "markdown",
   "metadata": {},
   "source": [
    "### Load Preprocessed data "
   ]
  },
  {
   "cell_type": "code",
   "execution_count": 1,
   "metadata": {},
   "outputs": [],
   "source": [
    "# retrieve the preprocessed data from previous notebook\n",
    "\n",
    "%store -r x_train \n",
    "%store -r x_test \n",
    "%store -r y_train \n",
    "%store -r y_test \n",
    "%store -r yy \n",
    "%store -r le"
   ]
  },
  {
   "cell_type": "markdown",
   "metadata": {},
   "source": [
    "### Initial model architecture - MLP\n",
    "\n",
    "We will start with constructing a Multilayer Perceptron (MLP) Neural Network using Keras and a Tensorflow backend. \n",
    "\n",
    "Starting with a `sequential` model so we can build the model layer by layer. \n",
    "\n",
    "We will begin with a simple model architecture, consisting of three layers, an input layer, a hidden layer and an output layer. All three layers will be of the `dense` layer type which is a standard layer type that is used in many cases for neural networks. \n",
    "\n",
    "The first layer will receive the input shape. As each sample contains 40 MFCCs (or columns) we have a shape of (1x40) this means we will start with an input shape of 40. \n",
    "\n",
    "The first two layers will have 256 nodes. The activation function we will be using for our first 2 layers is the `ReLU`, or `Rectified Linear Activation`. This activation function has been proven to work well in neural networks.\n",
    "\n",
    "We will also apply a `Dropout` value of 50% on our first two layers. This will randomly exclude nodes from each update cycle which in turn results in a network that is capable of better generalisation and is less likely to overfit the training data.\n",
    "\n",
    "Our output layer will have 10 nodes (num_labels) which matches the number of possible classifications. The activation is for our output layer is `softmax`. Softmax makes the output sum up to 1 so the output can be interpreted as probabilities. The model will then make its prediction based on which option has the highest probability."
   ]
  },
  {
   "cell_type": "code",
   "execution_count": 2,
   "metadata": {},
   "outputs": [
    {
     "name": "stderr",
     "output_type": "stream",
     "text": [
      "Using TensorFlow backend.\n",
      "/Users/andreatamburri/anaconda3/lib/python3.7/site-packages/tensorflow/python/framework/dtypes.py:523: FutureWarning: Passing (type, 1) or '1type' as a synonym of type is deprecated; in a future version of numpy, it will be understood as (type, (1,)) / '(1,)type'.\n",
      "  _np_qint8 = np.dtype([(\"qint8\", np.int8, 1)])\n",
      "/Users/andreatamburri/anaconda3/lib/python3.7/site-packages/tensorflow/python/framework/dtypes.py:524: FutureWarning: Passing (type, 1) or '1type' as a synonym of type is deprecated; in a future version of numpy, it will be understood as (type, (1,)) / '(1,)type'.\n",
      "  _np_quint8 = np.dtype([(\"quint8\", np.uint8, 1)])\n",
      "/Users/andreatamburri/anaconda3/lib/python3.7/site-packages/tensorflow/python/framework/dtypes.py:525: FutureWarning: Passing (type, 1) or '1type' as a synonym of type is deprecated; in a future version of numpy, it will be understood as (type, (1,)) / '(1,)type'.\n",
      "  _np_qint16 = np.dtype([(\"qint16\", np.int16, 1)])\n",
      "/Users/andreatamburri/anaconda3/lib/python3.7/site-packages/tensorflow/python/framework/dtypes.py:526: FutureWarning: Passing (type, 1) or '1type' as a synonym of type is deprecated; in a future version of numpy, it will be understood as (type, (1,)) / '(1,)type'.\n",
      "  _np_quint16 = np.dtype([(\"quint16\", np.uint16, 1)])\n",
      "/Users/andreatamburri/anaconda3/lib/python3.7/site-packages/tensorflow/python/framework/dtypes.py:527: FutureWarning: Passing (type, 1) or '1type' as a synonym of type is deprecated; in a future version of numpy, it will be understood as (type, (1,)) / '(1,)type'.\n",
      "  _np_qint32 = np.dtype([(\"qint32\", np.int32, 1)])\n",
      "/Users/andreatamburri/anaconda3/lib/python3.7/site-packages/tensorflow/python/framework/dtypes.py:532: FutureWarning: Passing (type, 1) or '1type' as a synonym of type is deprecated; in a future version of numpy, it will be understood as (type, (1,)) / '(1,)type'.\n",
      "  np_resource = np.dtype([(\"resource\", np.ubyte, 1)])\n",
      "/Users/andreatamburri/anaconda3/lib/python3.7/site-packages/tensorboard/compat/tensorflow_stub/dtypes.py:541: FutureWarning: Passing (type, 1) or '1type' as a synonym of type is deprecated; in a future version of numpy, it will be understood as (type, (1,)) / '(1,)type'.\n",
      "  _np_qint8 = np.dtype([(\"qint8\", np.int8, 1)])\n",
      "/Users/andreatamburri/anaconda3/lib/python3.7/site-packages/tensorboard/compat/tensorflow_stub/dtypes.py:542: FutureWarning: Passing (type, 1) or '1type' as a synonym of type is deprecated; in a future version of numpy, it will be understood as (type, (1,)) / '(1,)type'.\n",
      "  _np_quint8 = np.dtype([(\"quint8\", np.uint8, 1)])\n",
      "/Users/andreatamburri/anaconda3/lib/python3.7/site-packages/tensorboard/compat/tensorflow_stub/dtypes.py:543: FutureWarning: Passing (type, 1) or '1type' as a synonym of type is deprecated; in a future version of numpy, it will be understood as (type, (1,)) / '(1,)type'.\n",
      "  _np_qint16 = np.dtype([(\"qint16\", np.int16, 1)])\n",
      "/Users/andreatamburri/anaconda3/lib/python3.7/site-packages/tensorboard/compat/tensorflow_stub/dtypes.py:544: FutureWarning: Passing (type, 1) or '1type' as a synonym of type is deprecated; in a future version of numpy, it will be understood as (type, (1,)) / '(1,)type'.\n",
      "  _np_quint16 = np.dtype([(\"quint16\", np.uint16, 1)])\n",
      "/Users/andreatamburri/anaconda3/lib/python3.7/site-packages/tensorboard/compat/tensorflow_stub/dtypes.py:545: FutureWarning: Passing (type, 1) or '1type' as a synonym of type is deprecated; in a future version of numpy, it will be understood as (type, (1,)) / '(1,)type'.\n",
      "  _np_qint32 = np.dtype([(\"qint32\", np.int32, 1)])\n",
      "/Users/andreatamburri/anaconda3/lib/python3.7/site-packages/tensorboard/compat/tensorflow_stub/dtypes.py:550: FutureWarning: Passing (type, 1) or '1type' as a synonym of type is deprecated; in a future version of numpy, it will be understood as (type, (1,)) / '(1,)type'.\n",
      "  np_resource = np.dtype([(\"resource\", np.ubyte, 1)])\n"
     ]
    }
   ],
   "source": [
    "import numpy as np\n",
    "from keras.models import Sequential\n",
    "from keras.layers import Dense, Dropout, Activation, Flatten\n",
    "from keras.layers import Convolution2D, MaxPooling2D\n",
    "from keras.optimizers import Adam\n",
    "from keras.utils import np_utils\n",
    "from sklearn import metrics \n",
    "\n",
    "num_labels = yy.shape[1]\n",
    "filter_size = 2\n",
    "\n",
    "# Construct model \n",
    "model = Sequential()\n",
    "\n",
    "model.add(Dense(256, input_shape=(40,)))\n",
    "model.add(Activation('relu'))\n",
    "model.add(Dropout(0.5))\n",
    "\n",
    "model.add(Dense(256))\n",
    "model.add(Activation('relu'))\n",
    "model.add(Dropout(0.5))\n",
    "\n",
    "model.add(Dense(num_labels))\n",
    "model.add(Activation('softmax'))"
   ]
  },
  {
   "cell_type": "markdown",
   "metadata": {},
   "source": [
    "### Compiling the model \n",
    "\n",
    "For compiling our model, we will use the following three parameters: \n",
    "\n",
    "* Loss function - we will use `categorical_crossentropy`. This is the most common choice for classification. A lower score indicates that the model is performing better.\n",
    "\n",
    "* Metrics - we will use the `accuracy` metric which will allow us to view the accuracy score on the validation data when we train the model. \n",
    "\n",
    "* Optimizer - here we will use `adam` which is a generally good optimizer for many use cases.\n"
   ]
  },
  {
   "cell_type": "code",
   "execution_count": 3,
   "metadata": {},
   "outputs": [],
   "source": [
    "# Compile the model\n",
    "model.compile(loss='categorical_crossentropy', metrics=['accuracy'], optimizer='adam') "
   ]
  },
  {
   "cell_type": "code",
   "execution_count": 4,
   "metadata": {},
   "outputs": [
    {
     "name": "stdout",
     "output_type": "stream",
     "text": [
      "Model: \"sequential_1\"\n",
      "_________________________________________________________________\n",
      "Layer (type)                 Output Shape              Param #   \n",
      "=================================================================\n",
      "dense_1 (Dense)              (None, 256)               10496     \n",
      "_________________________________________________________________\n",
      "activation_1 (Activation)    (None, 256)               0         \n",
      "_________________________________________________________________\n",
      "dropout_1 (Dropout)          (None, 256)               0         \n",
      "_________________________________________________________________\n",
      "dense_2 (Dense)              (None, 256)               65792     \n",
      "_________________________________________________________________\n",
      "activation_2 (Activation)    (None, 256)               0         \n",
      "_________________________________________________________________\n",
      "dropout_2 (Dropout)          (None, 256)               0         \n",
      "_________________________________________________________________\n",
      "dense_3 (Dense)              (None, 10)                2570      \n",
      "_________________________________________________________________\n",
      "activation_3 (Activation)    (None, 10)                0         \n",
      "=================================================================\n",
      "Total params: 78,858\n",
      "Trainable params: 78,858\n",
      "Non-trainable params: 0\n",
      "_________________________________________________________________\n",
      "Pre-training accuracy: 12.8792%\n"
     ]
    }
   ],
   "source": [
    "# Display model architecture summary \n",
    "model.summary()\n",
    "\n",
    "# Calculate pre-training accuracy \n",
    "score = model.evaluate(x_test, y_test, verbose=0)\n",
    "accuracy = 100*score[1]\n",
    "\n",
    "print(\"Pre-training accuracy: %.4f%%\" % accuracy)"
   ]
  },
  {
   "cell_type": "markdown",
   "metadata": {},
   "source": [
    "### Training \n",
    "\n",
    "Here we will train the model. \n",
    "\n",
    "We will start with 100 epochs which is the number of times the model will cycle through the data. The model will improve on each cycle until it reaches a certain point. \n",
    "\n",
    "We will also start with a low batch size, as having a large batch size can reduce the generalisation ability of the model. "
   ]
  },
  {
   "cell_type": "code",
   "execution_count": 5,
   "metadata": {},
   "outputs": [
    {
     "name": "stdout",
     "output_type": "stream",
     "text": [
      "Train on 6985 samples, validate on 1747 samples\n",
      "Epoch 1/100\n",
      "6985/6985 [==============================] - 1s 83us/step - loss: 8.1385 - accuracy: 0.1855 - val_loss: 2.1862 - val_accuracy: 0.2124\n",
      "\n",
      "Epoch 00001: val_loss improved from inf to 2.18623, saving model to saved_models/weights.best.basic_mlp.hdf5\n",
      "Epoch 2/100\n",
      "6985/6985 [==============================] - 0s 63us/step - loss: 2.2578 - accuracy: 0.2389 - val_loss: 2.0003 - val_accuracy: 0.3240\n",
      "\n",
      "Epoch 00002: val_loss improved from 2.18623 to 2.00029, saving model to saved_models/weights.best.basic_mlp.hdf5\n",
      "Epoch 3/100\n",
      "6985/6985 [==============================] - 0s 70us/step - loss: 2.0501 - accuracy: 0.2883 - val_loss: 1.8367 - val_accuracy: 0.3692\n",
      "\n",
      "Epoch 00003: val_loss improved from 2.00029 to 1.83673, saving model to saved_models/weights.best.basic_mlp.hdf5\n",
      "Epoch 4/100\n",
      "6985/6985 [==============================] - 0s 63us/step - loss: 1.8952 - accuracy: 0.3288 - val_loss: 1.6626 - val_accuracy: 0.4528\n",
      "\n",
      "Epoch 00004: val_loss improved from 1.83673 to 1.66261, saving model to saved_models/weights.best.basic_mlp.hdf5\n",
      "Epoch 5/100\n",
      "6985/6985 [==============================] - 0s 63us/step - loss: 1.7729 - accuracy: 0.3749 - val_loss: 1.5632 - val_accuracy: 0.4803\n",
      "\n",
      "Epoch 00005: val_loss improved from 1.66261 to 1.56322, saving model to saved_models/weights.best.basic_mlp.hdf5\n",
      "Epoch 6/100\n",
      "6985/6985 [==============================] - 0s 63us/step - loss: 1.6754 - accuracy: 0.4102 - val_loss: 1.4424 - val_accuracy: 0.5306\n",
      "\n",
      "Epoch 00006: val_loss improved from 1.56322 to 1.44242, saving model to saved_models/weights.best.basic_mlp.hdf5\n",
      "Epoch 7/100\n",
      "6985/6985 [==============================] - 0s 65us/step - loss: 1.5526 - accuracy: 0.4634 - val_loss: 1.2942 - val_accuracy: 0.5856\n",
      "\n",
      "Epoch 00007: val_loss improved from 1.44242 to 1.29420, saving model to saved_models/weights.best.basic_mlp.hdf5\n",
      "Epoch 8/100\n",
      "6985/6985 [==============================] - 1s 75us/step - loss: 1.4515 - accuracy: 0.4985 - val_loss: 1.2158 - val_accuracy: 0.6274\n",
      "\n",
      "Epoch 00008: val_loss improved from 1.29420 to 1.21578, saving model to saved_models/weights.best.basic_mlp.hdf5\n",
      "Epoch 9/100\n",
      "6985/6985 [==============================] - 0s 64us/step - loss: 1.3630 - accuracy: 0.5268 - val_loss: 1.1497 - val_accuracy: 0.6354\n",
      "\n",
      "Epoch 00009: val_loss improved from 1.21578 to 1.14971, saving model to saved_models/weights.best.basic_mlp.hdf5\n",
      "Epoch 10/100\n",
      "6985/6985 [==============================] - 0s 63us/step - loss: 1.3104 - accuracy: 0.5538 - val_loss: 1.0667 - val_accuracy: 0.6600\n",
      "\n",
      "Epoch 00010: val_loss improved from 1.14971 to 1.06668, saving model to saved_models/weights.best.basic_mlp.hdf5\n",
      "Epoch 11/100\n",
      "6985/6985 [==============================] - 0s 65us/step - loss: 1.2629 - accuracy: 0.5695 - val_loss: 1.0490 - val_accuracy: 0.6691\n",
      "\n",
      "Epoch 00011: val_loss improved from 1.06668 to 1.04901, saving model to saved_models/weights.best.basic_mlp.hdf5\n",
      "Epoch 12/100\n",
      "6985/6985 [==============================] - 0s 64us/step - loss: 1.2072 - accuracy: 0.5850 - val_loss: 0.9935 - val_accuracy: 0.6898\n",
      "\n",
      "Epoch 00012: val_loss improved from 1.04901 to 0.99349, saving model to saved_models/weights.best.basic_mlp.hdf5\n",
      "Epoch 13/100\n",
      "6985/6985 [==============================] - 0s 63us/step - loss: 1.1521 - accuracy: 0.6109 - val_loss: 0.9374 - val_accuracy: 0.7172\n",
      "\n",
      "Epoch 00013: val_loss improved from 0.99349 to 0.93739, saving model to saved_models/weights.best.basic_mlp.hdf5\n",
      "Epoch 14/100\n",
      "6985/6985 [==============================] - 0s 64us/step - loss: 1.1235 - accuracy: 0.6160 - val_loss: 0.9384 - val_accuracy: 0.7149\n",
      "\n",
      "Epoch 00014: val_loss did not improve from 0.93739\n",
      "Epoch 15/100\n",
      "6985/6985 [==============================] - 0s 64us/step - loss: 1.0891 - accuracy: 0.6261 - val_loss: 0.8861 - val_accuracy: 0.7167\n",
      "\n",
      "Epoch 00015: val_loss improved from 0.93739 to 0.88614, saving model to saved_models/weights.best.basic_mlp.hdf5\n",
      "Epoch 16/100\n",
      "6985/6985 [==============================] - 0s 66us/step - loss: 1.0397 - accuracy: 0.6482 - val_loss: 0.8257 - val_accuracy: 0.7430\n",
      "\n",
      "Epoch 00016: val_loss improved from 0.88614 to 0.82568, saving model to saved_models/weights.best.basic_mlp.hdf5\n",
      "Epoch 17/100\n",
      "6985/6985 [==============================] - 0s 65us/step - loss: 1.0117 - accuracy: 0.6504 - val_loss: 0.7933 - val_accuracy: 0.7544\n",
      "\n",
      "Epoch 00017: val_loss improved from 0.82568 to 0.79330, saving model to saved_models/weights.best.basic_mlp.hdf5\n",
      "Epoch 18/100\n",
      "6985/6985 [==============================] - 0s 69us/step - loss: 0.9999 - accuracy: 0.6603 - val_loss: 0.8091 - val_accuracy: 0.7459\n",
      "\n",
      "Epoch 00018: val_loss did not improve from 0.79330\n",
      "Epoch 19/100\n",
      "6985/6985 [==============================] - 1s 77us/step - loss: 0.9761 - accuracy: 0.6641 - val_loss: 0.7839 - val_accuracy: 0.7693\n",
      "\n",
      "Epoch 00019: val_loss improved from 0.79330 to 0.78385, saving model to saved_models/weights.best.basic_mlp.hdf5\n",
      "Epoch 20/100\n",
      "6985/6985 [==============================] - 0s 68us/step - loss: 0.9651 - accuracy: 0.6719 - val_loss: 0.7311 - val_accuracy: 0.7722\n",
      "\n",
      "Epoch 00020: val_loss improved from 0.78385 to 0.73108, saving model to saved_models/weights.best.basic_mlp.hdf5\n",
      "Epoch 21/100\n",
      "6985/6985 [==============================] - 0s 68us/step - loss: 0.9047 - accuracy: 0.6929 - val_loss: 0.7174 - val_accuracy: 0.7813\n",
      "\n",
      "Epoch 00021: val_loss improved from 0.73108 to 0.71745, saving model to saved_models/weights.best.basic_mlp.hdf5\n",
      "Epoch 22/100\n",
      "6985/6985 [==============================] - 1s 73us/step - loss: 0.9244 - accuracy: 0.6878 - val_loss: 0.7148 - val_accuracy: 0.7928\n",
      "\n",
      "Epoch 00022: val_loss improved from 0.71745 to 0.71483, saving model to saved_models/weights.best.basic_mlp.hdf5\n",
      "Epoch 23/100\n",
      "6985/6985 [==============================] - 1s 81us/step - loss: 0.8872 - accuracy: 0.7044 - val_loss: 0.7087 - val_accuracy: 0.7842\n",
      "\n",
      "Epoch 00023: val_loss improved from 0.71483 to 0.70866, saving model to saved_models/weights.best.basic_mlp.hdf5\n",
      "Epoch 24/100\n",
      "6985/6985 [==============================] - 0s 66us/step - loss: 0.8551 - accuracy: 0.7095 - val_loss: 0.6967 - val_accuracy: 0.7802\n",
      "\n",
      "Epoch 00024: val_loss improved from 0.70866 to 0.69674, saving model to saved_models/weights.best.basic_mlp.hdf5\n",
      "Epoch 25/100\n",
      "6985/6985 [==============================] - 0s 66us/step - loss: 0.8428 - accuracy: 0.7138 - val_loss: 0.6823 - val_accuracy: 0.8008\n",
      "\n",
      "Epoch 00025: val_loss improved from 0.69674 to 0.68233, saving model to saved_models/weights.best.basic_mlp.hdf5\n",
      "Epoch 26/100\n",
      "6985/6985 [==============================] - 0s 64us/step - loss: 0.8370 - accuracy: 0.7132 - val_loss: 0.6854 - val_accuracy: 0.7819\n",
      "\n",
      "Epoch 00026: val_loss did not improve from 0.68233\n",
      "Epoch 27/100\n",
      "6985/6985 [==============================] - 0s 63us/step - loss: 0.8129 - accuracy: 0.7261 - val_loss: 0.6358 - val_accuracy: 0.8214\n",
      "\n",
      "Epoch 00027: val_loss improved from 0.68233 to 0.63584, saving model to saved_models/weights.best.basic_mlp.hdf5\n",
      "Epoch 28/100\n",
      "6985/6985 [==============================] - 0s 70us/step - loss: 0.8006 - accuracy: 0.7304 - val_loss: 0.6266 - val_accuracy: 0.8100\n",
      "\n",
      "Epoch 00028: val_loss improved from 0.63584 to 0.62655, saving model to saved_models/weights.best.basic_mlp.hdf5\n",
      "Epoch 29/100\n",
      "6985/6985 [==============================] - 0s 65us/step - loss: 0.7935 - accuracy: 0.7291 - val_loss: 0.6132 - val_accuracy: 0.8271\n",
      "\n",
      "Epoch 00029: val_loss improved from 0.62655 to 0.61323, saving model to saved_models/weights.best.basic_mlp.hdf5\n",
      "Epoch 30/100\n",
      "6985/6985 [==============================] - 0s 68us/step - loss: 0.7590 - accuracy: 0.7439 - val_loss: 0.5885 - val_accuracy: 0.8283\n",
      "\n",
      "Epoch 00030: val_loss improved from 0.61323 to 0.58846, saving model to saved_models/weights.best.basic_mlp.hdf5\n",
      "Epoch 31/100\n",
      "6985/6985 [==============================] - 0s 64us/step - loss: 0.7518 - accuracy: 0.7436 - val_loss: 0.5940 - val_accuracy: 0.8294\n",
      "\n",
      "Epoch 00031: val_loss did not improve from 0.58846\n",
      "Epoch 32/100\n",
      "6985/6985 [==============================] - 0s 65us/step - loss: 0.7807 - accuracy: 0.7374 - val_loss: 0.6098 - val_accuracy: 0.8145\n",
      "\n",
      "Epoch 00032: val_loss did not improve from 0.58846\n",
      "Epoch 33/100\n",
      "6985/6985 [==============================] - 0s 66us/step - loss: 0.7530 - accuracy: 0.7409 - val_loss: 0.5849 - val_accuracy: 0.8346\n"
     ]
    },
    {
     "name": "stdout",
     "output_type": "stream",
     "text": [
      "\n",
      "Epoch 00033: val_loss improved from 0.58846 to 0.58490, saving model to saved_models/weights.best.basic_mlp.hdf5\n",
      "Epoch 34/100\n",
      "6985/6985 [==============================] - 0s 63us/step - loss: 0.7405 - accuracy: 0.7465 - val_loss: 0.5511 - val_accuracy: 0.8386\n",
      "\n",
      "Epoch 00034: val_loss improved from 0.58490 to 0.55106, saving model to saved_models/weights.best.basic_mlp.hdf5\n",
      "Epoch 35/100\n",
      "6985/6985 [==============================] - 0s 68us/step - loss: 0.7177 - accuracy: 0.7563 - val_loss: 0.5692 - val_accuracy: 0.8122\n",
      "\n",
      "Epoch 00035: val_loss did not improve from 0.55106\n",
      "Epoch 36/100\n",
      "6985/6985 [==============================] - 0s 63us/step - loss: 0.7133 - accuracy: 0.7562 - val_loss: 0.5473 - val_accuracy: 0.8329\n",
      "\n",
      "Epoch 00036: val_loss improved from 0.55106 to 0.54734, saving model to saved_models/weights.best.basic_mlp.hdf5\n",
      "Epoch 37/100\n",
      "6985/6985 [==============================] - 1s 74us/step - loss: 0.6965 - accuracy: 0.7571 - val_loss: 0.5412 - val_accuracy: 0.8472\n",
      "\n",
      "Epoch 00037: val_loss improved from 0.54734 to 0.54116, saving model to saved_models/weights.best.basic_mlp.hdf5\n",
      "Epoch 38/100\n",
      "6985/6985 [==============================] - 1s 79us/step - loss: 0.7039 - accuracy: 0.7599 - val_loss: 0.5490 - val_accuracy: 0.8426\n",
      "\n",
      "Epoch 00038: val_loss did not improve from 0.54116\n",
      "Epoch 39/100\n",
      "6985/6985 [==============================] - 0s 64us/step - loss: 0.7001 - accuracy: 0.7634 - val_loss: 0.5498 - val_accuracy: 0.8392\n",
      "\n",
      "Epoch 00039: val_loss did not improve from 0.54116\n",
      "Epoch 40/100\n",
      "6985/6985 [==============================] - 0s 65us/step - loss: 0.6917 - accuracy: 0.7651 - val_loss: 0.5507 - val_accuracy: 0.8397\n",
      "\n",
      "Epoch 00040: val_loss did not improve from 0.54116\n",
      "Epoch 41/100\n",
      "6985/6985 [==============================] - 0s 63us/step - loss: 0.7015 - accuracy: 0.7613 - val_loss: 0.5337 - val_accuracy: 0.8420\n",
      "\n",
      "Epoch 00041: val_loss improved from 0.54116 to 0.53371, saving model to saved_models/weights.best.basic_mlp.hdf5\n",
      "Epoch 42/100\n",
      "6985/6985 [==============================] - 0s 62us/step - loss: 0.6798 - accuracy: 0.7674 - val_loss: 0.5299 - val_accuracy: 0.8466\n",
      "\n",
      "Epoch 00042: val_loss improved from 0.53371 to 0.52995, saving model to saved_models/weights.best.basic_mlp.hdf5\n",
      "Epoch 43/100\n",
      "6985/6985 [==============================] - 0s 65us/step - loss: 0.6682 - accuracy: 0.7744 - val_loss: 0.5221 - val_accuracy: 0.8386\n",
      "\n",
      "Epoch 00043: val_loss improved from 0.52995 to 0.52214, saving model to saved_models/weights.best.basic_mlp.hdf5\n",
      "Epoch 44/100\n",
      "6985/6985 [==============================] - 0s 69us/step - loss: 0.6574 - accuracy: 0.7701 - val_loss: 0.5374 - val_accuracy: 0.8472\n",
      "\n",
      "Epoch 00044: val_loss did not improve from 0.52214\n",
      "Epoch 45/100\n",
      "6985/6985 [==============================] - 1s 75us/step - loss: 0.6524 - accuracy: 0.7798 - val_loss: 0.5220 - val_accuracy: 0.8477\n",
      "\n",
      "Epoch 00045: val_loss improved from 0.52214 to 0.52201, saving model to saved_models/weights.best.basic_mlp.hdf5\n",
      "Epoch 46/100\n",
      "6985/6985 [==============================] - 0s 69us/step - loss: 0.6782 - accuracy: 0.7698 - val_loss: 0.5359 - val_accuracy: 0.8409\n",
      "\n",
      "Epoch 00046: val_loss did not improve from 0.52201\n",
      "Epoch 47/100\n",
      "6985/6985 [==============================] - 0s 67us/step - loss: 0.6474 - accuracy: 0.7768 - val_loss: 0.5161 - val_accuracy: 0.8449\n",
      "\n",
      "Epoch 00047: val_loss improved from 0.52201 to 0.51607, saving model to saved_models/weights.best.basic_mlp.hdf5\n",
      "Epoch 48/100\n",
      "6985/6985 [==============================] - 0s 68us/step - loss: 0.6373 - accuracy: 0.7784 - val_loss: 0.5230 - val_accuracy: 0.8529\n",
      "\n",
      "Epoch 00048: val_loss did not improve from 0.51607\n",
      "Epoch 49/100\n",
      "6985/6985 [==============================] - 0s 62us/step - loss: 0.6523 - accuracy: 0.7785 - val_loss: 0.5011 - val_accuracy: 0.8558\n",
      "\n",
      "Epoch 00049: val_loss improved from 0.51607 to 0.50113, saving model to saved_models/weights.best.basic_mlp.hdf5\n",
      "Epoch 50/100\n",
      "6985/6985 [==============================] - 0s 62us/step - loss: 0.6334 - accuracy: 0.7844 - val_loss: 0.5085 - val_accuracy: 0.8523\n",
      "\n",
      "Epoch 00050: val_loss did not improve from 0.50113\n",
      "Epoch 51/100\n",
      "6985/6985 [==============================] - 0s 62us/step - loss: 0.6238 - accuracy: 0.7861 - val_loss: 0.4999 - val_accuracy: 0.8609\n",
      "\n",
      "Epoch 00051: val_loss improved from 0.50113 to 0.49990, saving model to saved_models/weights.best.basic_mlp.hdf5\n",
      "Epoch 52/100\n",
      "6985/6985 [==============================] - 0s 63us/step - loss: 0.6214 - accuracy: 0.7874 - val_loss: 0.4843 - val_accuracy: 0.8580\n",
      "\n",
      "Epoch 00052: val_loss improved from 0.49990 to 0.48427, saving model to saved_models/weights.best.basic_mlp.hdf5\n",
      "Epoch 53/100\n",
      "6985/6985 [==============================] - 0s 63us/step - loss: 0.6296 - accuracy: 0.7837 - val_loss: 0.5214 - val_accuracy: 0.8535\n",
      "\n",
      "Epoch 00053: val_loss did not improve from 0.48427\n",
      "Epoch 54/100\n",
      "6985/6985 [==============================] - 0s 62us/step - loss: 0.6187 - accuracy: 0.7923 - val_loss: 0.5087 - val_accuracy: 0.8575\n",
      "\n",
      "Epoch 00054: val_loss did not improve from 0.48427\n",
      "Epoch 55/100\n",
      "6985/6985 [==============================] - 0s 62us/step - loss: 0.6194 - accuracy: 0.7901 - val_loss: 0.4916 - val_accuracy: 0.8666\n",
      "\n",
      "Epoch 00055: val_loss did not improve from 0.48427\n",
      "Epoch 56/100\n",
      "6985/6985 [==============================] - 0s 68us/step - loss: 0.6085 - accuracy: 0.7924 - val_loss: 0.4937 - val_accuracy: 0.8638\n",
      "\n",
      "Epoch 00056: val_loss did not improve from 0.48427\n",
      "Epoch 57/100\n",
      "6985/6985 [==============================] - 0s 68us/step - loss: 0.6164 - accuracy: 0.7940 - val_loss: 0.4933 - val_accuracy: 0.8563\n",
      "\n",
      "Epoch 00057: val_loss did not improve from 0.48427\n",
      "Epoch 58/100\n",
      "6985/6985 [==============================] - 0s 63us/step - loss: 0.6044 - accuracy: 0.7973 - val_loss: 0.4922 - val_accuracy: 0.8529\n",
      "\n",
      "Epoch 00058: val_loss did not improve from 0.48427\n",
      "Epoch 59/100\n",
      "6985/6985 [==============================] - 0s 64us/step - loss: 0.5924 - accuracy: 0.8016 - val_loss: 0.4780 - val_accuracy: 0.8580\n",
      "\n",
      "Epoch 00059: val_loss improved from 0.48427 to 0.47795, saving model to saved_models/weights.best.basic_mlp.hdf5\n",
      "Epoch 60/100\n",
      "6985/6985 [==============================] - 0s 64us/step - loss: 0.6168 - accuracy: 0.7916 - val_loss: 0.4879 - val_accuracy: 0.8638\n",
      "\n",
      "Epoch 00060: val_loss did not improve from 0.47795\n",
      "Epoch 61/100\n",
      "6985/6985 [==============================] - 0s 64us/step - loss: 0.5728 - accuracy: 0.8057 - val_loss: 0.4827 - val_accuracy: 0.8609\n",
      "\n",
      "Epoch 00061: val_loss did not improve from 0.47795\n",
      "Epoch 62/100\n",
      "6985/6985 [==============================] - 1s 79us/step - loss: 0.5982 - accuracy: 0.7944 - val_loss: 0.4821 - val_accuracy: 0.8724\n",
      "\n",
      "Epoch 00062: val_loss did not improve from 0.47795\n",
      "Epoch 63/100\n",
      "6985/6985 [==============================] - 1s 72us/step - loss: 0.5661 - accuracy: 0.8016 - val_loss: 0.4576 - val_accuracy: 0.8752\n",
      "\n",
      "Epoch 00063: val_loss improved from 0.47795 to 0.45763, saving model to saved_models/weights.best.basic_mlp.hdf5\n",
      "Epoch 64/100\n",
      "6985/6985 [==============================] - 0s 67us/step - loss: 0.6029 - accuracy: 0.7966 - val_loss: 0.4913 - val_accuracy: 0.8586\n",
      "\n",
      "Epoch 00064: val_loss did not improve from 0.45763\n",
      "Epoch 65/100\n",
      "6985/6985 [==============================] - 0s 63us/step - loss: 0.5835 - accuracy: 0.8060 - val_loss: 0.4676 - val_accuracy: 0.8655\n",
      "\n",
      "Epoch 00065: val_loss did not improve from 0.45763\n",
      "Epoch 66/100\n",
      "6985/6985 [==============================] - 1s 76us/step - loss: 0.5604 - accuracy: 0.8060 - val_loss: 0.4691 - val_accuracy: 0.8592\n",
      "\n",
      "Epoch 00066: val_loss did not improve from 0.45763\n",
      "Epoch 67/100\n",
      "6985/6985 [==============================] - 1s 73us/step - loss: 0.5921 - accuracy: 0.8050 - val_loss: 0.4545 - val_accuracy: 0.8678\n",
      "\n",
      "Epoch 00067: val_loss improved from 0.45763 to 0.45448, saving model to saved_models/weights.best.basic_mlp.hdf5\n",
      "Epoch 68/100\n",
      "6985/6985 [==============================] - 1s 81us/step - loss: 0.5686 - accuracy: 0.8084 - val_loss: 0.4697 - val_accuracy: 0.8706\n",
      "\n",
      "Epoch 00068: val_loss did not improve from 0.45448\n",
      "Epoch 69/100\n",
      "6985/6985 [==============================] - 1s 89us/step - loss: 0.5941 - accuracy: 0.8024 - val_loss: 0.4548 - val_accuracy: 0.8655\n",
      "\n",
      "Epoch 00069: val_loss did not improve from 0.45448\n",
      "Epoch 70/100\n"
     ]
    },
    {
     "name": "stdout",
     "output_type": "stream",
     "text": [
      "6985/6985 [==============================] - 1s 85us/step - loss: 0.5670 - accuracy: 0.8056 - val_loss: 0.4660 - val_accuracy: 0.8735\n",
      "\n",
      "Epoch 00070: val_loss did not improve from 0.45448\n",
      "Epoch 71/100\n",
      "6985/6985 [==============================] - 1s 81us/step - loss: 0.5888 - accuracy: 0.8030 - val_loss: 0.4701 - val_accuracy: 0.8649\n",
      "\n",
      "Epoch 00071: val_loss did not improve from 0.45448\n",
      "Epoch 72/100\n",
      "6985/6985 [==============================] - 1s 79us/step - loss: 0.5637 - accuracy: 0.8089 - val_loss: 0.4483 - val_accuracy: 0.8672\n",
      "\n",
      "Epoch 00072: val_loss improved from 0.45448 to 0.44828, saving model to saved_models/weights.best.basic_mlp.hdf5\n",
      "Epoch 73/100\n",
      "6985/6985 [==============================] - 1s 76us/step - loss: 0.5563 - accuracy: 0.8165 - val_loss: 0.4346 - val_accuracy: 0.8804\n",
      "\n",
      "Epoch 00073: val_loss improved from 0.44828 to 0.43458, saving model to saved_models/weights.best.basic_mlp.hdf5\n",
      "Epoch 74/100\n",
      "6985/6985 [==============================] - 0s 66us/step - loss: 0.5727 - accuracy: 0.8080 - val_loss: 0.4680 - val_accuracy: 0.8632\n",
      "\n",
      "Epoch 00074: val_loss did not improve from 0.43458\n",
      "Epoch 75/100\n",
      "6985/6985 [==============================] - 1s 78us/step - loss: 0.5618 - accuracy: 0.8077 - val_loss: 0.4595 - val_accuracy: 0.8724\n",
      "\n",
      "Epoch 00075: val_loss did not improve from 0.43458\n",
      "Epoch 76/100\n",
      "6985/6985 [==============================] - 1s 81us/step - loss: 0.5435 - accuracy: 0.8119 - val_loss: 0.4486 - val_accuracy: 0.8758\n",
      "\n",
      "Epoch 00076: val_loss did not improve from 0.43458\n",
      "Epoch 77/100\n",
      "6985/6985 [==============================] - 1s 81us/step - loss: 0.5815 - accuracy: 0.8033 - val_loss: 0.4663 - val_accuracy: 0.8638\n",
      "\n",
      "Epoch 00077: val_loss did not improve from 0.43458\n",
      "Epoch 78/100\n",
      "6985/6985 [==============================] - 1s 84us/step - loss: 0.5594 - accuracy: 0.8089 - val_loss: 0.4404 - val_accuracy: 0.8752\n",
      "\n",
      "Epoch 00078: val_loss did not improve from 0.43458\n",
      "Epoch 79/100\n",
      "6985/6985 [==============================] - 1s 74us/step - loss: 0.5327 - accuracy: 0.8198 - val_loss: 0.4446 - val_accuracy: 0.8701\n",
      "\n",
      "Epoch 00079: val_loss did not improve from 0.43458\n",
      "Epoch 80/100\n",
      "6985/6985 [==============================] - 0s 67us/step - loss: 0.5417 - accuracy: 0.8112 - val_loss: 0.4312 - val_accuracy: 0.8781\n",
      "\n",
      "Epoch 00080: val_loss improved from 0.43458 to 0.43117, saving model to saved_models/weights.best.basic_mlp.hdf5\n",
      "Epoch 81/100\n",
      "6985/6985 [==============================] - 0s 67us/step - loss: 0.5491 - accuracy: 0.8126 - val_loss: 0.4235 - val_accuracy: 0.8855\n",
      "\n",
      "Epoch 00081: val_loss improved from 0.43117 to 0.42347, saving model to saved_models/weights.best.basic_mlp.hdf5\n",
      "Epoch 82/100\n",
      "6985/6985 [==============================] - 0s 64us/step - loss: 0.5403 - accuracy: 0.8180 - val_loss: 0.4440 - val_accuracy: 0.8764\n",
      "\n",
      "Epoch 00082: val_loss did not improve from 0.42347\n",
      "Epoch 83/100\n",
      "6985/6985 [==============================] - 0s 64us/step - loss: 0.5138 - accuracy: 0.8253 - val_loss: 0.4445 - val_accuracy: 0.8729\n",
      "\n",
      "Epoch 00083: val_loss did not improve from 0.42347\n",
      "Epoch 84/100\n",
      "6985/6985 [==============================] - 0s 63us/step - loss: 0.5450 - accuracy: 0.8179 - val_loss: 0.4355 - val_accuracy: 0.8781\n",
      "\n",
      "Epoch 00084: val_loss did not improve from 0.42347\n",
      "Epoch 85/100\n",
      "6985/6985 [==============================] - 0s 64us/step - loss: 0.5453 - accuracy: 0.8150 - val_loss: 0.4358 - val_accuracy: 0.8781\n",
      "\n",
      "Epoch 00085: val_loss did not improve from 0.42347\n",
      "Epoch 86/100\n",
      "6985/6985 [==============================] - 0s 63us/step - loss: 0.5671 - accuracy: 0.8126 - val_loss: 0.4783 - val_accuracy: 0.8666\n",
      "\n",
      "Epoch 00086: val_loss did not improve from 0.42347\n",
      "Epoch 87/100\n",
      "6985/6985 [==============================] - 0s 63us/step - loss: 0.5641 - accuracy: 0.8147 - val_loss: 0.4672 - val_accuracy: 0.8729\n",
      "\n",
      "Epoch 00087: val_loss did not improve from 0.42347\n",
      "Epoch 88/100\n",
      "6985/6985 [==============================] - 0s 63us/step - loss: 0.5152 - accuracy: 0.8233 - val_loss: 0.4155 - val_accuracy: 0.8838\n",
      "\n",
      "Epoch 00088: val_loss improved from 0.42347 to 0.41550, saving model to saved_models/weights.best.basic_mlp.hdf5\n",
      "Epoch 89/100\n",
      "6985/6985 [==============================] - 0s 63us/step - loss: 0.5261 - accuracy: 0.8209 - val_loss: 0.4228 - val_accuracy: 0.8792\n",
      "\n",
      "Epoch 00089: val_loss did not improve from 0.41550\n",
      "Epoch 90/100\n",
      "6985/6985 [==============================] - 0s 63us/step - loss: 0.5193 - accuracy: 0.8216 - val_loss: 0.4362 - val_accuracy: 0.8769\n",
      "\n",
      "Epoch 00090: val_loss did not improve from 0.41550\n",
      "Epoch 91/100\n",
      "6985/6985 [==============================] - 0s 63us/step - loss: 0.5359 - accuracy: 0.8163 - val_loss: 0.4381 - val_accuracy: 0.8764\n",
      "\n",
      "Epoch 00091: val_loss did not improve from 0.41550\n",
      "Epoch 92/100\n",
      "6985/6985 [==============================] - 0s 63us/step - loss: 0.5376 - accuracy: 0.8208 - val_loss: 0.4243 - val_accuracy: 0.8769\n",
      "\n",
      "Epoch 00092: val_loss did not improve from 0.41550\n",
      "Epoch 93/100\n",
      "6985/6985 [==============================] - 0s 63us/step - loss: 0.5070 - accuracy: 0.8271 - val_loss: 0.4140 - val_accuracy: 0.8907\n",
      "\n",
      "Epoch 00093: val_loss improved from 0.41550 to 0.41397, saving model to saved_models/weights.best.basic_mlp.hdf5\n",
      "Epoch 94/100\n",
      "6985/6985 [==============================] - 0s 63us/step - loss: 0.5065 - accuracy: 0.8255 - val_loss: 0.4281 - val_accuracy: 0.8769\n",
      "\n",
      "Epoch 00094: val_loss did not improve from 0.41397\n",
      "Epoch 95/100\n",
      "6985/6985 [==============================] - 0s 64us/step - loss: 0.5243 - accuracy: 0.8245 - val_loss: 0.4239 - val_accuracy: 0.8838\n",
      "\n",
      "Epoch 00095: val_loss did not improve from 0.41397\n",
      "Epoch 96/100\n",
      "6985/6985 [==============================] - 0s 64us/step - loss: 0.5314 - accuracy: 0.8208 - val_loss: 0.4257 - val_accuracy: 0.8861\n",
      "\n",
      "Epoch 00096: val_loss did not improve from 0.41397\n",
      "Epoch 97/100\n",
      "6985/6985 [==============================] - 0s 65us/step - loss: 0.5112 - accuracy: 0.8225 - val_loss: 0.4279 - val_accuracy: 0.8821\n",
      "\n",
      "Epoch 00097: val_loss did not improve from 0.41397\n",
      "Epoch 98/100\n",
      "6985/6985 [==============================] - 0s 63us/step - loss: 0.5142 - accuracy: 0.8256 - val_loss: 0.4342 - val_accuracy: 0.8809\n",
      "\n",
      "Epoch 00098: val_loss did not improve from 0.41397\n",
      "Epoch 99/100\n",
      "6985/6985 [==============================] - 0s 63us/step - loss: 0.5049 - accuracy: 0.8279 - val_loss: 0.4187 - val_accuracy: 0.8832\n",
      "\n",
      "Epoch 00099: val_loss did not improve from 0.41397\n",
      "Epoch 100/100\n",
      "6985/6985 [==============================] - 0s 66us/step - loss: 0.5282 - accuracy: 0.8251 - val_loss: 0.4147 - val_accuracy: 0.8827\n",
      "\n",
      "Epoch 00100: val_loss did not improve from 0.41397\n",
      "Training completed in time:  0:00:49.314604\n"
     ]
    }
   ],
   "source": [
    "from keras.callbacks import ModelCheckpoint \n",
    "from datetime import datetime \n",
    "\n",
    "num_epochs = 100\n",
    "num_batch_size = 32\n",
    "\n",
    "checkpointer = ModelCheckpoint(filepath='saved_models/weights.best.basic_mlp.hdf5', \n",
    "                               verbose=1, save_best_only=True)\n",
    "start = datetime.now()\n",
    "\n",
    "model.fit(x_train, y_train, batch_size=num_batch_size, epochs=num_epochs, validation_data=(x_test, y_test), callbacks=[checkpointer], verbose=1)\n",
    "\n",
    "\n",
    "duration = datetime.now() - start\n",
    "print(\"Training completed in time: \", duration)"
   ]
  },
  {
   "cell_type": "markdown",
   "metadata": {},
   "source": [
    "### Test the model \n",
    "\n",
    "Here we will review the accuracy of the model on both the training and test data sets. "
   ]
  },
  {
   "cell_type": "code",
   "execution_count": 6,
   "metadata": {},
   "outputs": [
    {
     "name": "stdout",
     "output_type": "stream",
     "text": [
      "Training Accuracy:  0.9317107796669006\n",
      "Testing Accuracy:  0.8826559782028198\n"
     ]
    }
   ],
   "source": [
    "# Evaluating the model on the training and testing set\n",
    "score = model.evaluate(x_train, y_train, verbose=0)\n",
    "print(\"Training Accuracy: \", score[1])\n",
    "\n",
    "score = model.evaluate(x_test, y_test, verbose=0)\n",
    "print(\"Testing Accuracy: \", score[1])"
   ]
  },
  {
   "cell_type": "markdown",
   "metadata": {},
   "source": [
    "The initial Training and Testing accuracy scores are quite high. As there is not a great difference between the Training and Test scores (~5%) this suggests that the model has not suffered from overfitting. "
   ]
  },
  {
   "cell_type": "markdown",
   "metadata": {},
   "source": [
    "### Predictions  \n",
    "\n",
    "Here we will build a method which will allow us to test the models predictions on a specified audio .wav file. "
   ]
  },
  {
   "cell_type": "code",
   "execution_count": 7,
   "metadata": {},
   "outputs": [
    {
     "name": "stderr",
     "output_type": "stream",
     "text": [
      "/Users/andreatamburri/anaconda3/lib/python3.7/site-packages/librosa/util/decorators.py:9: NumbaDeprecationWarning: \u001b[1mAn import was requested from a module that has moved location.\n",
      "Import requested from: 'numba.decorators', please update to use 'numba.core.decorators' or pin to Numba version 0.48.0. This alias will not be present in Numba version 0.50.0.\u001b[0m\n",
      "  from numba.decorators import jit as optional_jit\n",
      "/Users/andreatamburri/anaconda3/lib/python3.7/site-packages/librosa/util/decorators.py:9: NumbaDeprecationWarning: \u001b[1mAn import was requested from a module that has moved location.\n",
      "Import of 'jit' requested from: 'numba.decorators', please update to use 'numba.core.decorators' or pin to Numba version 0.48.0. This alias will not be present in Numba version 0.50.0.\u001b[0m\n",
      "  from numba.decorators import jit as optional_jit\n"
     ]
    }
   ],
   "source": [
    "import librosa \n",
    "import numpy as np \n",
    "\n",
    "def extract_feature(file_name):\n",
    "   \n",
    "    try:\n",
    "        audio_data, sample_rate = librosa.load(file_name, res_type='kaiser_fast') \n",
    "        mfccs = librosa.feature.mfcc(y=audio_data, sr=sample_rate, n_mfcc=40)\n",
    "        mfccsscaled = np.mean(mfccs.T,axis=0)\n",
    "        \n",
    "    except Exception as e:\n",
    "        print(\"Error encountered while parsing file: \", file)\n",
    "        return None, None\n",
    "\n",
    "    return np.array([mfccsscaled])\n"
   ]
  },
  {
   "cell_type": "code",
   "execution_count": 8,
   "metadata": {},
   "outputs": [],
   "source": [
    "def print_prediction(file_name):\n",
    "    prediction_feature = extract_feature(file_name) \n",
    "\n",
    "    predicted_vector = model.predict_classes(prediction_feature)\n",
    "    predicted_class = le.inverse_transform(predicted_vector) \n",
    "    print(\"The predicted class is:\", predicted_class[0], '\\n') \n",
    "\n",
    "    predicted_proba_vector = model.predict_proba(prediction_feature) \n",
    "    predicted_proba = predicted_proba_vector[0]\n",
    "    for i in range(len(predicted_proba)): \n",
    "        category = le.inverse_transform(np.array([i]))\n",
    "        print(category[0], \"\\t\\t : \", format(predicted_proba[i], '.32f') )"
   ]
  },
  {
   "cell_type": "markdown",
   "metadata": {},
   "source": [
    "### Validation \n",
    "\n",
    "#### Test with sample data \n",
    "\n",
    "Initial sainity check to verify the predictions using a subsection of the sample audio files we explored in the first notebook. We expect the bulk of these to be classified correctly. "
   ]
  },
  {
   "cell_type": "code",
   "execution_count": 9,
   "metadata": {},
   "outputs": [
    {
     "name": "stdout",
     "output_type": "stream",
     "text": [
      "The predicted class is: air_conditioner \n",
      "\n",
      "air_conditioner \t\t :  0.99999964237213134765625000000000\n",
      "car_horn \t\t :  0.00000011712788960949183092452586\n",
      "children_playing \t\t :  0.00000002885492378368326171766967\n",
      "dog_bark \t\t :  0.00000003877984511291288072243333\n",
      "drilling \t\t :  0.00000005908338351900965790264308\n",
      "engine_idling \t\t :  0.00000005422520388265184010379016\n",
      "gun_shot \t\t :  0.00000000267914401774760335683823\n",
      "jackhammer \t\t :  0.00000001554728257247006695251912\n",
      "siren \t\t :  0.00000000094775920445044903317466\n",
      "street_music \t\t :  0.00000014979642060097830835729837\n"
     ]
    }
   ],
   "source": [
    "# Class: Air Conditioner\n",
    "\n",
    "filename = '../UrbanSound Dataset sample/audio/100852-0-0-0.wav' \n",
    "print_prediction(filename) "
   ]
  },
  {
   "cell_type": "code",
   "execution_count": 10,
   "metadata": {
    "scrolled": true
   },
   "outputs": [
    {
     "name": "stdout",
     "output_type": "stream",
     "text": [
      "The predicted class is: drilling \n",
      "\n",
      "air_conditioner \t\t :  0.00000000008224136649470636939441\n",
      "car_horn \t\t :  0.00000214497208617103751748800278\n",
      "children_playing \t\t :  0.00009362694981973618268966674805\n",
      "dog_bark \t\t :  0.00001217670069308951497077941895\n",
      "drilling \t\t :  0.97418028116226196289062500000000\n",
      "engine_idling \t\t :  0.00000000075200978777445470768725\n",
      "gun_shot \t\t :  0.00000000740195993387260386953130\n",
      "jackhammer \t\t :  0.00000000894259688521970019792207\n",
      "siren \t\t :  0.00000000957716750349391077179462\n",
      "street_music \t\t :  0.02571182325482368469238281250000\n"
     ]
    }
   ],
   "source": [
    "# Class: Drilling\n",
    "\n",
    "filename = '../UrbanSound Dataset sample/audio/103199-4-0-0.wav'\n",
    "print_prediction(filename) "
   ]
  },
  {
   "cell_type": "code",
   "execution_count": 11,
   "metadata": {},
   "outputs": [
    {
     "name": "stdout",
     "output_type": "stream",
     "text": [
      "The predicted class is: street_music \n",
      "\n",
      "air_conditioner \t\t :  0.09999072551727294921875000000000\n",
      "car_horn \t\t :  0.00305506144650280475616455078125\n",
      "children_playing \t\t :  0.09950152784585952758789062500000\n",
      "dog_bark \t\t :  0.02582867257297039031982421875000\n",
      "drilling \t\t :  0.00509325042366981506347656250000\n",
      "engine_idling \t\t :  0.00916280318051576614379882812500\n",
      "gun_shot \t\t :  0.00549275847151875495910644531250\n",
      "jackhammer \t\t :  0.03270008042454719543457031250000\n",
      "siren \t\t :  0.00361734302714467048645019531250\n",
      "street_music \t\t :  0.71555775403976440429687500000000\n"
     ]
    }
   ],
   "source": [
    "# Class: Street music \n",
    "\n",
    "filename = '../UrbanSound Dataset sample/audio/101848-9-0-0.wav'\n",
    "print_prediction(filename) "
   ]
  },
  {
   "cell_type": "code",
   "execution_count": 12,
   "metadata": {},
   "outputs": [
    {
     "name": "stdout",
     "output_type": "stream",
     "text": [
      "The predicted class is: car_horn \n",
      "\n",
      "air_conditioner \t\t :  0.00188611494377255439758300781250\n",
      "car_horn \t\t :  0.68632853031158447265625000000000\n",
      "children_playing \t\t :  0.01224335655570030212402343750000\n",
      "dog_bark \t\t :  0.16461659967899322509765625000000\n",
      "drilling \t\t :  0.05645351111888885498046875000000\n",
      "engine_idling \t\t :  0.00212736334651708602905273437500\n",
      "gun_shot \t\t :  0.00211420282721519470214843750000\n",
      "jackhammer \t\t :  0.00372551172040402889251708984375\n",
      "siren \t\t :  0.00587591761723160743713378906250\n",
      "street_music \t\t :  0.06462877988815307617187500000000\n"
     ]
    }
   ],
   "source": [
    "# Class: Car Horn \n",
    "\n",
    "filename = '../UrbanSound Dataset sample/audio/100648-1-0-0.wav'\n",
    "print_prediction(filename) "
   ]
  },
  {
   "cell_type": "markdown",
   "metadata": {},
   "source": [
    "#### Observations \n",
    "\n",
    "From this brief sanity check the model seems to predict well. One errror was observed whereby a car horn was incorrectly classifed as a dog bark. \n",
    "\n",
    "We can see from the per class confidence that this was quite a low score (43%). This allows follows our early observation that a dog bark and car horn are similar in spectral shape. "
   ]
  },
  {
   "cell_type": "markdown",
   "metadata": {},
   "source": [
    "### Other audio\n",
    "\n",
    "Here we will use a sample of various copyright free sounds that we not part of either our test or training data to further validate our model. "
   ]
  },
  {
   "cell_type": "code",
   "execution_count": 11,
   "metadata": {},
   "outputs": [
    {
     "name": "stdout",
     "output_type": "stream",
     "text": [
      "The predicted class is: dog_bark \n",
      "\n",
      "air_conditioner \t\t :  0.00041168121970258653163909912109\n",
      "car_horn \t\t :  0.00089477357687428593635559082031\n",
      "children_playing \t\t :  0.09841609746217727661132812500000\n",
      "dog_bark \t\t :  0.62324690818786621093750000000000\n",
      "drilling \t\t :  0.00877229031175374984741210937500\n",
      "engine_idling \t\t :  0.00002467866761435288935899734497\n",
      "gun_shot \t\t :  0.03237913921475410461425781250000\n",
      "jackhammer \t\t :  0.00010647259477991610765457153320\n",
      "siren \t\t :  0.00025971565628424286842346191406\n",
      "street_music \t\t :  0.23548822104930877685546875000000\n"
     ]
    }
   ],
   "source": [
    "filename = '../Evaluation audio/dog_bark_1.wav'\n",
    "print_prediction(filename) "
   ]
  },
  {
   "cell_type": "code",
   "execution_count": 12,
   "metadata": {
    "scrolled": true
   },
   "outputs": [
    {
     "name": "stdout",
     "output_type": "stream",
     "text": [
      "The predicted class is: drilling \n",
      "\n",
      "air_conditioner \t\t :  0.03187213838100433349609375000000\n",
      "car_horn \t\t :  0.00031004374613985419273376464844\n",
      "children_playing \t\t :  0.00008082303247647359967231750488\n",
      "dog_bark \t\t :  0.00045101894647814333438873291016\n",
      "drilling \t\t :  0.91103124618530273437500000000000\n",
      "engine_idling \t\t :  0.00066664698533713817596435546875\n",
      "gun_shot \t\t :  0.00014731122064404189586639404297\n",
      "jackhammer \t\t :  0.05533346161246299743652343750000\n",
      "siren \t\t :  0.00000345394050782488193362951279\n",
      "street_music \t\t :  0.00010387785005150362849235534668\n"
     ]
    }
   ],
   "source": [
    "filename = '../Evaluation audio/drilling_1.wav'\n",
    "\n",
    "print_prediction(filename) "
   ]
  },
  {
   "cell_type": "code",
   "execution_count": 13,
   "metadata": {},
   "outputs": [
    {
     "name": "stdout",
     "output_type": "stream",
     "text": [
      "The predicted class is: dog_bark \n",
      "\n",
      "air_conditioner \t\t :  0.15668992698192596435546875000000\n",
      "car_horn \t\t :  0.00028948130784556269645690917969\n",
      "children_playing \t\t :  0.00210997764952480792999267578125\n",
      "dog_bark \t\t :  0.54222160577774047851562500000000\n",
      "drilling \t\t :  0.00530693493783473968505859375000\n",
      "engine_idling \t\t :  0.01762679778039455413818359375000\n",
      "gun_shot \t\t :  0.00704973144456744194030761718750\n",
      "jackhammer \t\t :  0.00019645661814138293266296386719\n",
      "siren \t\t :  0.00757358316332101821899414062500\n",
      "street_music \t\t :  0.26093551516532897949218750000000\n"
     ]
    }
   ],
   "source": [
    "filename = '../Evaluation audio/gun_shot_1.wav'\n",
    "\n",
    "print_prediction(filename) \n",
    "\n",
    "# sample data weighted towards gun shot - peak in the dog barking sample is simmilar in shape to the gun shot sample"
   ]
  },
  {
   "cell_type": "code",
   "execution_count": 14,
   "metadata": {},
   "outputs": [
    {
     "name": "stdout",
     "output_type": "stream",
     "text": [
      "The predicted class is: siren \n",
      "\n",
      "air_conditioner \t\t :  0.00025223082047887146472930908203\n",
      "car_horn \t\t :  0.00478093931451439857482910156250\n",
      "children_playing \t\t :  0.00389584968797862529754638671875\n",
      "dog_bark \t\t :  0.08564702421426773071289062500000\n",
      "drilling \t\t :  0.00010684659355320036411285400391\n",
      "engine_idling \t\t :  0.19492025673389434814453125000000\n",
      "gun_shot \t\t :  0.00535361655056476593017578125000\n",
      "jackhammer \t\t :  0.00035517592914402484893798828125\n",
      "siren \t\t :  0.67424273490905761718750000000000\n",
      "street_music \t\t :  0.03044527582824230194091796875000\n"
     ]
    }
   ],
   "source": [
    "filename = '../Evaluation audio/siren_1.wav'\n",
    "\n",
    "print_prediction(filename) "
   ]
  },
  {
   "cell_type": "markdown",
   "metadata": {},
   "source": [
    "#### Observations \n",
    "\n",
    "The performance of our initial model is satisfactorry and has generalised well, seeming to predict well when tested against new audio data. "
   ]
  },
  {
   "cell_type": "markdown",
   "metadata": {},
   "source": [
    "### *In the next notebook we will refine our model*"
   ]
  }
 ],
 "metadata": {
  "kernelspec": {
   "display_name": "Python 3",
   "language": "python",
   "name": "python3"
  },
  "language_info": {
   "codemirror_mode": {
    "name": "ipython",
    "version": 3
   },
   "file_extension": ".py",
   "mimetype": "text/x-python",
   "name": "python",
   "nbconvert_exporter": "python",
   "pygments_lexer": "ipython3",
   "version": "3.7.1"
  }
 },
 "nbformat": 4,
 "nbformat_minor": 2
}
